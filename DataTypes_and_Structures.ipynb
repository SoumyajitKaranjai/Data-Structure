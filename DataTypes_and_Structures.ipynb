{
  "nbformat": 4,
  "nbformat_minor": 0,
  "metadata": {
    "colab": {
      "provenance": []
    },
    "kernelspec": {
      "name": "python3",
      "display_name": "Python 3"
    },
    "language_info": {
      "name": "python"
    }
  },
  "cells": [
    {
      "cell_type": "code",
      "execution_count": null,
      "metadata": {
        "id": "I8gov_4us-de"
      },
      "outputs": [],
      "source": []
    },
    {
      "cell_type": "markdown",
      "source": [
        "1.What are data structures, and why are they important?\n",
        "\n",
        "\n",
        "*   Data structures are specialized formats for organizing, storing, and accessing collections of data. They provide efficient ways to manage information based on its characteristics and intended use.\n",
        "\n",
        "Importance of data structures-\n",
        "\n",
        "\n",
        "*   Choosing the right data structure significantly impacts the efficiency and performance of your program.\n",
        "\n",
        "*  Simplify data manipulation (adding, removing, modifying elements).\n",
        "*  Optimize searching and sorting operations.   \n",
        "*   Conserve memory usage.\n",
        "\n",
        "2. Explain the difference between mutable and immutable data types with examples.\n",
        "\n",
        "**Mutable Data types:-**\n",
        "\n",
        "a. Objects or data types whose state or value can be changed after they are created are known as mutable data types.\n",
        "\n",
        "b.Not hashable by default, so they cannot be used as dictionary keys or set elements.\n",
        "\n",
        "Examples- List,Set,Dictionary\n",
        "\n",
        "**Immutable Data types:-**\n",
        "\n",
        "a.Objects or data types whose state or value cannot be changed after they are created are known as immutable data types.\n",
        "\n",
        "b. Hashable, making them suitable as dictionary keys or set elements.\n",
        "\n",
        "Examples- Integer,String,Tuple\n",
        "\n",
        "3.What are the main differences between lists and tuples in Python?\n",
        "\n",
        "**Lists:-**\n",
        "\n",
        "a.Lists is mutable data types.\n",
        "\n",
        "b.Lists are defined using square brackets: [ ]\n",
        "\n",
        "c.Supports many methods like append(), remove(), pop(), sort(), etc.\n",
        "\n",
        "d.Consumes more memory.\n",
        "\n",
        "**Tuples:-**\n",
        "\n",
        "a.Tuples is immutable data types.\n",
        "\n",
        "b. Tuples are defined using parentheses: ( )\n",
        "\n",
        "c.Supports limited methods; primarily count() and index()\n",
        "\n",
        "d. More memory-efficient.\n",
        "\n",
        "4.Describe how dictionaries store data.\n",
        "\n",
        "\n",
        "*   Dictionary is a data structure thatstores data as key-value pair.\n",
        "\n",
        "\n",
        "*   Keys are unique and immutable.\n",
        "5.Why might you use a set instead of a list in Python?\n",
        "\n",
        "\n",
        "*   Sets are unique collection of elements.\n",
        "*   Sets check membership operation faster than lists.\n",
        "\n",
        "*   Removing duplicate elements from a set is faster than list.\n",
        "*   Set supports set operations like union,intersection,difference and symmetric difference.\n",
        "6.What is a string in Python, and how is it different from a list?\n",
        "*   String is a sequence of character and is used to represent and manipulate textual data.\n",
        "\n",
        "**String:-**\n",
        "\n",
        "\n",
        "*   String is immutable datatype.\n",
        "*   It consists only of characters.\n",
        "*   String is mainly used for text processing.\n",
        "Example:\"Hello\"\n",
        "\n",
        "\n",
        "**List:-**\n",
        "\n",
        "\n",
        "*   List is mutable data type.\n",
        "*   It consists of elements of any data types.\n",
        "*   List is mainly used for collection of items.\n",
        "Example:[1,\"abc\",2+4j]\n",
        "7. How do tuples ensure data integrity in Python?\n",
        "\n",
        "\n",
        "*   Tuples ensure data integrity in python in several ways:-\n",
        "\n",
        "a. **Prevents Accidental Modification:**\n",
        "Once a tuple is created, its elements cannot be changed, added, or removed. This immutability guarantees that the data remains consistent throughout the program, reducing the risk of unintended side effects.\n",
        "\n",
        "b.**Supports Hashing for Use as Dictionary Keys:**\n",
        "Tuples can be used as keys in dictionaries because their immutability ensures their hash value remains constant. This is crucial for maintaining the integrity of dictionary keys.\n",
        "\n",
        "c.**Ensures Consistent Data Structures:**\n",
        "Tuples are often used to represent fixed collections of items.Their immutability guarantees that these data structures remain consistent and reliable throughout the program.\n",
        "\n",
        "8.What is a hash table, and how does it relate to dictionaries in Python?\n",
        "\n",
        "**Hash Table:-**\n",
        "A hash table stores key-value pairs and uses a hash function to compute an index into an array of buckets or slots, from which the desired value can be found. The key is hashed, and the resulting hash indicates where the corresponding value is stored. This allows for efficient data retrieval.\n",
        "\n",
        "Relation of hash table to dictionaries in python:-\n",
        "\n",
        "Python's dictionaries  is implemented using a hash table. When you insert a key-value pair, Python computes the hash of the key and uses it to determine the appropriate bucket in the hash table. If two keys hash to the same bucket (a collision), Python uses a collision resolution strategy, such as open addressing with quadratic probing, to find an alternative location for the new key-value pair.This mechanism ensures that dictionary operations like insertion, deletion, and lookup can be performed in constant time on average, making dictionaries highly efficient for these operations.\n",
        "\n",
        "9.Can lists contain different data types in Python?\n",
        "\n",
        "\n",
        "*   Yes,lists can contain different data types in python.\n",
        "10.Explain why strings are immutable in Python.\n",
        "\n",
        "Strings are immutable in python because of the following reasons:-\n",
        "\n",
        "\n",
        "*  Immutability allows Python to optimize memory usage by reusing string objects. For instance, when multiple variables reference the same string value, Python can point them to the same memory location, reducing redundancy.\n",
        "*  Since strings are immutable, their hash value remains constant throughout their lifetime. This property is essential for using strings as keys in dictionaries or elements in sets, as these data structures rely on the immutability of keys for efficient lookup and storage.\n",
        "11.What advantages do dictionaries offer over lists for certain tasks?\n",
        "\n",
        "The advantages of dictionaries over lists are as follows:-\n",
        "\n",
        "\n",
        "*   Dictionaries provide average constant-time complexity for lookups, insertions, and deletions. This efficiency arises from their underlying hash table implementation, which allows for quick access to values based on unique keys.\n",
        "*   In dictionaries, values can be accessed  directly using  keys.This is more  efficient compared to searching for an item in a list.\n",
        "\n",
        "*   With dictionaries, there's no need to manage indices manually.We can associate values with descriptive keys.\n",
        "*   Python dictionaries come with a variety of built-in methods like .get(), .keys(), .values(), and .items(), which facilitate easy data manipulation and iteration.\n",
        "12. Describe a scenario where using a tuple would be preferable over a list.\n",
        "* Imagine you're developing a mapping application that needs to store GPS\n",
        "coordinates for various landmarks. Each coordinate is a pair of latitude and longitude values that should remain constant throughout the application's lifecycle.\n",
        "\n",
        "Advantages:-\n",
        "\n",
        "a. Immutability: The tuple ensures that the coordinates cannot be accidentally modified, preserving data integrity.\n",
        "\n",
        "b.Hashability: Tuples can be used as keys in dictionaries, allowing you to map landmarks to their descriptions efficiently.\n",
        "\n",
        "c.Performance: Tuples are more memory-efficient and slightly faster for iteration compared to lists, which is beneficial when handling large datasets.\n",
        "\n",
        "13.How do sets handle duplicate values in Python?\n",
        "\n",
        "\n",
        "\n",
        "*   In Python, sets are designed to store unique elements.When you add elements to a set, any duplicates are automatically discarded.\n",
        "\n",
        "Example:\n",
        "\n",
        "my_set = {1, 2, 3, 1, 2}\n",
        "\n",
        " print(my_set)\n",
        "\n",
        "->Output will be {1,2,3}\n",
        "\n",
        "14. How does the “in” keyword work differently for lists and dictionaries?\n",
        "\n",
        "**Lists:-**\n",
        "*   When used with a list, the in keyword checks for the presence of an element. It performs a linear search, iterating through each item until a match is found or the end of the list is reached.\n",
        "\n",
        "Example:\n",
        "\n",
        "fruits = [\"apple\", \"banana\", \"cherry\"]\n",
        "\n",
        "\n",
        "print(\"banana\" in fruits)  # Output: True\n",
        "\n",
        "print(\"orange\" in fruits) # Output: False\n",
        "\n",
        "**Dictionaries:-**\n",
        "*   In dictionaries, the in keyword checks for the presence of a key, not a value.\n",
        "\n",
        "Example:\n",
        "\n",
        "person = {\"name\": \"Alice\", \"age\": 30, \"city\": \"New York\"}\n",
        "\n",
        "print(\"name\" in person)  # Output: True\n",
        "\n",
        "print(\"Alice\" in person)  # Output: False\n",
        "\n",
        "15.Can you modify the elements of a tuple? Explain why or why not?\n",
        "\n",
        "\n",
        "\n",
        "*   If you try to modify the  element of a tuple directly, Python raises a\n",
        "error.\n",
        "\n",
        "The reasons are-\n",
        "*  Data Integrity: Immutability ensures that the data stored in a tuple cannot be altered, providing a guarantee that the tuple's contents remain consistent.\n",
        "\n",
        "\n",
        "\n",
        "*   Performance: Tuples are generally more memory-efficient and faster to iterate over than lists, making them suitable for fixed collections of data.\n",
        " Exception:- if a tuple contains a mutable object (like a list), you can modify the contents of that object.\n",
        "\n",
        "16.What is a nested dictionary, and give an example of its use case?\n",
        "\n",
        "\n",
        " **Nested Dictionary:-**A nested dictionary in Python is a dictionary where the value associated with a key is another dictionary. This structure allows you to represent hierarchical data, making it ideal for complex datasets.\n",
        "\n",
        "Example:\n",
        "\n",
        "Information about multiple employees, including their name, age, and department.\n",
        "employees = {\n",
        "    101: {\"name\": \"John\", \"age\": 30, \"department\": \"HR\"},\n",
        "    102: {\"name\": \"Jane\", \"age\": 25, \"department\": \"Finance\"},\n",
        "    103: {\"name\": \"Doe\", \"age\": 28, \"department\": \"IT\"}\n",
        "}\n",
        "\n",
        "In this example, each employee ID (e.g., 101) is a key in the outer dictionary, and the corresponding value is another dictionary containing the employee's details.\n",
        "\n",
        "17.Describe the time complexity of accessing elements in a dictionary.\n",
        "\n",
        "The time complexity of accessing elements in a dictionary are as follows-\n",
        "\n",
        "**Average-Case Time Complexity: O(1)**\n",
        "\n",
        "Under typical conditions, accessing a value by its key in a dictionary is an O(1) operation. This constant time complexity is achieved because:\n",
        "\n",
        "a. Hash Function: Python computes the hash of the key using a hash function, which maps the key to an index in the underlying array.\n",
        "\n",
        "b. Direct Indexing: The hash value determines the index where the key-value pair is stored, allowing for direct access.\n",
        "\n",
        "**Worst-Case Time Complexity: O(n)**\n",
        "\n",
        "In rare scenarios, the time complexity of accessing an element can degrade to O(n), where n is the number of elements in the dictionary. This can occur due to:\n",
        "\n",
        "a.Hash Collisions: If many keys hash to the same index, the dictionary may store them in a list or chain, requiring a linear search to find the correct key.\n",
        "\n",
        "b.Poor Hash Function: A weak hash function can lead to clustering, increasing the likelihood of collisions.\n",
        "\n",
        "18. In what situations are lists preferred over dictionaries?\n",
        "\n",
        "In Python, lists are preferred over dictionaries in scenarios where:\n",
        "\n",
        "1. Maintaining Order and Sequence:\n",
        "\n",
        "Use Case: When the order of elements matters, such as processing items in the sequence they were added.\n",
        "\n",
        "Example: Iterating over a playlist of songs in the order they were added.\n",
        "\n",
        "Lists maintain the insertion order of elements, making them ideal for ordered data.\n",
        "\n",
        "2.Index-Based Access:\n",
        "\n",
        "Use Case: When you need to access elements by their position or index.\n",
        "\n",
        "Example: Accessing the first item in a shopping cart.\n",
        "\n",
        "\n",
        "Lists provide O(1) time complexity for accessing elements by index, allowing for efficient retrieval.\n",
        "\n",
        "3.Allowing Duplicate Values:\n",
        "\n",
        "Use Case: When the dataset may contain duplicate values.\n",
        "\n",
        "Example: Storing a list of tags where multiple items can have the same tag.\n",
        "\n",
        "\n",
        "Unlike dictionaries, lists allow duplicate values, making them suitable for such scenarios.\n",
        "\n",
        "4.Efficient Appending and Removal:\n",
        "\n",
        "Use Case: When you frequently add or remove elements, especially at the end of the collection.\n",
        "\n",
        "Example: Building a list of processed items during a loop.\n",
        "\n",
        "\n",
        "Lists offer O(1) amortized time complexity for append operations, making them efficient for dynamic collections.\n",
        "\n",
        "\n",
        "5.Simpler Data Structure:\n",
        "\n",
        "Use Case: When you need a simple, straightforward data structure without the overhead of key-value mapping.\n",
        "\n",
        "Example: Storing a list of user inputs.\n",
        "\n",
        "Lists are less complex than dictionaries, making them easier to use when key-value mapping is unnecessary.\n",
        "\n",
        "19. Why are dictionaries considered unordered, and how does that affect data retrieval?\n",
        "\n",
        "\n",
        "\n",
        "*   Dictionaries in Python are implemented using hash tables. Each key is hashed to compute an index, and the corresponding value is stored at that index. This allows for efficient lookups, additions, and deletions. However, the order in which items are stored in the hash table is not guaranteed, leading to the unordered nature of dictionaries in earlier versions of Python.\n",
        "\n",
        "Dictionaries affect data retrieval by-\n",
        "\n",
        "With the introduction of ordered dictionaries, you can rely on the order of items when iterating over them. For example, if you add items to a dictionary in a certain sequence, iterating over the dictionary will yield the items in that same sequence. This is particularly useful when the\n",
        "order of data matters, such as when processing configurations or serializing data.\n",
        "\n",
        "20.Explain the difference between a list and a dictionary in terms of data retrieval.\n",
        "\n",
        "\n",
        "**Lists:-**\n",
        "\n",
        "\n",
        "*   Structure: Ordered collection of items.\n",
        "*   Access Method: Elements are accessed using integer indices, starting from 0.\n",
        "\n",
        "\n",
        "\n",
        "*  Time Complexity:\n",
        "\n",
        "   a. Access by index: O(1) — Direct access is fast.\n",
        "\n",
        "   b.Search by value: O(n) — Requires scanning each element until a match is found.\n",
        "\n",
        "\n",
        "*   Use Case: Ideal when the order of elements matters or when you need to perform operations like slicing or appending.\n",
        "\n",
        "Example:\n",
        "\n",
        "fruits = ['apple', 'banana', 'cherry']\n",
        "\n",
        "\n",
        "print(fruits[1])  # Output: 'banana'\n",
        "\n",
        "**Dictionary:-**\n",
        "\n",
        "\n",
        "\n",
        "*   Structure: Unordered collection of key-value pairs.\n",
        "\n",
        "\n",
        "*   Access Method: Elements are accessed using unique keys.\n",
        "\n",
        "\n",
        "\n",
        "*   Time Complexity:\n",
        "\n",
        "   a.Access by key: O(1) — Fast retrieval due to hash table implementation.\n",
        "\n",
        "   b.Search by value: O(n) — Similar to lists, requires scanning each value.\n",
        "*  Use Case: Suitable when you need to associate values with unique identifiers (keys) and require fast lookups.\n",
        "\n",
        "Example:\n",
        "\n",
        "student = {'name': 'Alice', 'age': 20}\n",
        "\n",
        "\n",
        "print(student['name'])  # Output: 'Alice'\n",
        "\n",
        "\n",
        "\n",
        "\n",
        "\n",
        "\n",
        "\n",
        "\n",
        "\n",
        "\n",
        "\n",
        "\n",
        "\n",
        "\n",
        "\n",
        "\n",
        "\n",
        "\n",
        "\n",
        "\n",
        "\n",
        "\n",
        "\n",
        "\n",
        "\n",
        "\n",
        "\n",
        "\n",
        "\n",
        "\n",
        "\n",
        "\n",
        "\n",
        "\n",
        "\n"
      ],
      "metadata": {
        "id": "Oqjc3YICtXq6"
      }
    },
    {
      "cell_type": "code",
      "source": [],
      "metadata": {
        "id": "eqEcj_8wAUNI"
      },
      "execution_count": null,
      "outputs": []
    },
    {
      "cell_type": "markdown",
      "source": [
        "1.Write a code to create a string with your name and print it."
      ],
      "metadata": {
        "id": "3p_cpJWxmc4g"
      }
    },
    {
      "cell_type": "code",
      "source": [
        "name=input(\"Enter your name:\")\n",
        "print(f\"Hi,My name is {name}\")"
      ],
      "metadata": {
        "colab": {
          "base_uri": "https://localhost:8080/"
        },
        "id": "k4s0U25FmjvM",
        "outputId": "ad6f18b1-a403-4160-de2a-56f9e72ca20c"
      },
      "execution_count": 2,
      "outputs": [
        {
          "output_type": "stream",
          "name": "stdout",
          "text": [
            "Enter your name:Soumyajit\n",
            "Hi,My name is Soumyajit\n"
          ]
        }
      ]
    },
    {
      "cell_type": "markdown",
      "source": [
        "2.Write a code to find the length of the string \"Hello World\"."
      ],
      "metadata": {
        "id": "rmXe_Pl9niV6"
      }
    },
    {
      "cell_type": "code",
      "source": [
        "s=\"Hello World\"\n",
        "len(s)"
      ],
      "metadata": {
        "colab": {
          "base_uri": "https://localhost:8080/"
        },
        "id": "wYb7VLpPnoHb",
        "outputId": "6e00f320-6df8-4a6b-b6c4-6b30b7078a7a"
      },
      "execution_count": 4,
      "outputs": [
        {
          "output_type": "execute_result",
          "data": {
            "text/plain": [
              "11"
            ]
          },
          "metadata": {},
          "execution_count": 4
        }
      ]
    },
    {
      "cell_type": "markdown",
      "source": [
        "3.Write a code to slice the first 3 characters from the string \"Python Programming\"."
      ],
      "metadata": {
        "id": "GI1KARR1osJ5"
      }
    },
    {
      "cell_type": "code",
      "source": [
        "s=\"Python Programming\"\n",
        "s[0:3]"
      ],
      "metadata": {
        "colab": {
          "base_uri": "https://localhost:8080/",
          "height": 35
        },
        "id": "lAGDx1-Lo09I",
        "outputId": "cae24ef2-47f3-4f2d-9ad0-5fdb6cf2e0d0"
      },
      "execution_count": 5,
      "outputs": [
        {
          "output_type": "execute_result",
          "data": {
            "text/plain": [
              "'Pyt'"
            ],
            "application/vnd.google.colaboratory.intrinsic+json": {
              "type": "string"
            }
          },
          "metadata": {},
          "execution_count": 5
        }
      ]
    },
    {
      "cell_type": "markdown",
      "source": [
        "4.Write a code to convert the string \"hello\" to uppercase."
      ],
      "metadata": {
        "id": "_b4Jj79nq63Y"
      }
    },
    {
      "cell_type": "code",
      "source": [
        "s=\"hello\"\n",
        "s.upper()"
      ],
      "metadata": {
        "colab": {
          "base_uri": "https://localhost:8080/",
          "height": 35
        },
        "id": "p5Xp27SyrOOF",
        "outputId": "ecdfc3b6-74c1-40ad-92e7-6aa6019bd163"
      },
      "execution_count": 6,
      "outputs": [
        {
          "output_type": "execute_result",
          "data": {
            "text/plain": [
              "'HELLO'"
            ],
            "application/vnd.google.colaboratory.intrinsic+json": {
              "type": "string"
            }
          },
          "metadata": {},
          "execution_count": 6
        }
      ]
    },
    {
      "cell_type": "markdown",
      "source": [
        "5.Write a code to replace the word \"apple\" with \"orange\" in the string \"I like apple\"."
      ],
      "metadata": {
        "id": "8kR-gcD9r-4d"
      }
    },
    {
      "cell_type": "code",
      "source": [
        "s=\"I like apple\"\n",
        "s.replace(\"apple\",\"orange\")"
      ],
      "metadata": {
        "colab": {
          "base_uri": "https://localhost:8080/",
          "height": 35
        },
        "id": "oa50qBussgek",
        "outputId": "a2c5138f-c702-4ca2-cf76-8728ce58c24a"
      },
      "execution_count": 7,
      "outputs": [
        {
          "output_type": "execute_result",
          "data": {
            "text/plain": [
              "'I like orange'"
            ],
            "application/vnd.google.colaboratory.intrinsic+json": {
              "type": "string"
            }
          },
          "metadata": {},
          "execution_count": 7
        }
      ]
    },
    {
      "cell_type": "markdown",
      "source": [
        "6.Write a code to create a list with numbers 1 to 5 and print it.\n"
      ],
      "metadata": {
        "id": "0gjhvOCdtutW"
      }
    },
    {
      "cell_type": "code",
      "source": [
        "numbers = list(range(1, 6))\n",
        "print(numbers)"
      ],
      "metadata": {
        "colab": {
          "base_uri": "https://localhost:8080/"
        },
        "id": "tE8XMnCFt8yg",
        "outputId": "9c1da1c9-0181-4047-9409-5516355e3bf5"
      },
      "execution_count": 8,
      "outputs": [
        {
          "output_type": "stream",
          "name": "stdout",
          "text": [
            "[1, 2, 3, 4, 5]\n"
          ]
        }
      ]
    },
    {
      "cell_type": "markdown",
      "source": [
        "7.Write a code to append the number 10 to the list [1, 2, 3, 4]."
      ],
      "metadata": {
        "id": "_4fUvZkHu0hF"
      }
    },
    {
      "cell_type": "code",
      "source": [
        "l=[1,2,3,4]\n",
        "l.append(10)\n",
        "print (l)"
      ],
      "metadata": {
        "colab": {
          "base_uri": "https://localhost:8080/"
        },
        "id": "E3h7jPGSu9Qf",
        "outputId": "3bae2571-100a-438f-f8c2-f52c71de2980"
      },
      "execution_count": 11,
      "outputs": [
        {
          "output_type": "stream",
          "name": "stdout",
          "text": [
            "[1, 2, 3, 4, 10]\n"
          ]
        }
      ]
    },
    {
      "cell_type": "markdown",
      "source": [
        "8.Write a code to remove the number 3 from the list [1, 2, 3, 4, 5]."
      ],
      "metadata": {
        "id": "MkOTl-_5vSsZ"
      }
    },
    {
      "cell_type": "code",
      "source": [
        "l=[1,2,3,4,5]\n",
        "l.remove(3)\n",
        "print(l)"
      ],
      "metadata": {
        "colab": {
          "base_uri": "https://localhost:8080/"
        },
        "id": "LCzVNA7GvZRQ",
        "outputId": "a4d30e19-ad61-4522-9315-1d158a801beb"
      },
      "execution_count": 13,
      "outputs": [
        {
          "output_type": "stream",
          "name": "stdout",
          "text": [
            "[1, 2, 4, 5]\n"
          ]
        }
      ]
    },
    {
      "cell_type": "markdown",
      "source": [
        "9.Write a code to access the second element in the list ['a', 'b', 'c', 'd']."
      ],
      "metadata": {
        "id": "x0WF932-vrYo"
      }
    },
    {
      "cell_type": "code",
      "source": [
        "l=['a','b','c','d']\n",
        "l[1]"
      ],
      "metadata": {
        "colab": {
          "base_uri": "https://localhost:8080/",
          "height": 35
        },
        "id": "sU0sCAqxvzlh",
        "outputId": "d04342e0-32bf-40a8-a082-b5e1ef766a35"
      },
      "execution_count": 14,
      "outputs": [
        {
          "output_type": "execute_result",
          "data": {
            "text/plain": [
              "'b'"
            ],
            "application/vnd.google.colaboratory.intrinsic+json": {
              "type": "string"
            }
          },
          "metadata": {},
          "execution_count": 14
        }
      ]
    },
    {
      "cell_type": "markdown",
      "source": [
        "10.Write a code to reverse the list [10, 20, 30, 40, 50]"
      ],
      "metadata": {
        "id": "rxXjTldlw3z1"
      }
    },
    {
      "cell_type": "code",
      "source": [
        "l=[10,20,30,40,50]\n",
        "l[::-1]"
      ],
      "metadata": {
        "colab": {
          "base_uri": "https://localhost:8080/"
        },
        "id": "RtXKhsfKw_Eh",
        "outputId": "e719f76a-1f10-4d7e-d78f-6957f5d0ab95"
      },
      "execution_count": 15,
      "outputs": [
        {
          "output_type": "execute_result",
          "data": {
            "text/plain": [
              "[50, 40, 30, 20, 10]"
            ]
          },
          "metadata": {},
          "execution_count": 15
        }
      ]
    },
    {
      "cell_type": "markdown",
      "source": [
        "11.Write a code to create a tuple with the elements 100, 200, 300 and print it."
      ],
      "metadata": {
        "id": "TG_0IbsOyPdr"
      }
    },
    {
      "cell_type": "code",
      "source": [
        "t=(100,200,300)\n",
        "print(t)"
      ],
      "metadata": {
        "colab": {
          "base_uri": "https://localhost:8080/"
        },
        "id": "Y-tx2_PY0V1B",
        "outputId": "1d9fabe9-6326-465a-82ba-c9f379acbdcd"
      },
      "execution_count": 16,
      "outputs": [
        {
          "output_type": "stream",
          "name": "stdout",
          "text": [
            "(100, 200, 300)\n"
          ]
        }
      ]
    },
    {
      "cell_type": "markdown",
      "source": [
        "12.Write a code to access the second-to-last element of the tuple ('red', 'green', 'blue', 'yellow').\n"
      ],
      "metadata": {
        "id": "59-hk-sr0giZ"
      }
    },
    {
      "cell_type": "code",
      "source": [
        "t=('red','green','blue','yellow')\n",
        "t[-2]"
      ],
      "metadata": {
        "colab": {
          "base_uri": "https://localhost:8080/",
          "height": 35
        },
        "id": "GvJRuQ5y0nRW",
        "outputId": "0812fa0e-1e05-4010-cd15-14f9aeb01d01"
      },
      "execution_count": 17,
      "outputs": [
        {
          "output_type": "execute_result",
          "data": {
            "text/plain": [
              "'blue'"
            ],
            "application/vnd.google.colaboratory.intrinsic+json": {
              "type": "string"
            }
          },
          "metadata": {},
          "execution_count": 17
        }
      ]
    },
    {
      "cell_type": "markdown",
      "source": [
        "13.Write a code to find the minimum number in the tuple (10, 20, 5, 15)."
      ],
      "metadata": {
        "id": "recvv2q30_KR"
      }
    },
    {
      "cell_type": "code",
      "source": [
        "t=(10,20,5,15)\n",
        "min(t)"
      ],
      "metadata": {
        "colab": {
          "base_uri": "https://localhost:8080/"
        },
        "id": "sWfD0oXC1FbL",
        "outputId": "c47b0831-d795-49a3-e504-3837611bc747"
      },
      "execution_count": 18,
      "outputs": [
        {
          "output_type": "execute_result",
          "data": {
            "text/plain": [
              "5"
            ]
          },
          "metadata": {},
          "execution_count": 18
        }
      ]
    },
    {
      "cell_type": "markdown",
      "source": [
        "14.Write a code to find the index of the element \"cat\" in the tuple ('dog', 'cat', 'rabbit')."
      ],
      "metadata": {
        "id": "j5TGqJWm1Qyv"
      }
    },
    {
      "cell_type": "code",
      "source": [
        "t=('dog','cat','rabbit')\n",
        "t.index(\"cat\")"
      ],
      "metadata": {
        "colab": {
          "base_uri": "https://localhost:8080/"
        },
        "id": "obTdIDrp1VzK",
        "outputId": "65b8e6c0-2514-4f23-f91d-6722b18212f5"
      },
      "execution_count": 19,
      "outputs": [
        {
          "output_type": "execute_result",
          "data": {
            "text/plain": [
              "1"
            ]
          },
          "metadata": {},
          "execution_count": 19
        }
      ]
    },
    {
      "cell_type": "markdown",
      "source": [
        "15.Write a code to create a tuple containing three different fruits and check if \"kiwi\" is in it."
      ],
      "metadata": {
        "id": "0d3A34cz1j2N"
      }
    },
    {
      "cell_type": "code",
      "source": [
        "fruits=(\"apple\",\"kiwi\",\"banana\")\n",
        "if\"kiwi\"in fruits:\n",
        "  print(\"Kiwi is there.\")\n",
        "else:\n",
        "    print(\"Kiwi is not there\")"
      ],
      "metadata": {
        "colab": {
          "base_uri": "https://localhost:8080/"
        },
        "id": "pixdj4wN1pV7",
        "outputId": "12bc0c45-d2c9-42ca-a7b4-da0276e48bb0"
      },
      "execution_count": 22,
      "outputs": [
        {
          "output_type": "stream",
          "name": "stdout",
          "text": [
            "Kiwi is not there\n"
          ]
        }
      ]
    },
    {
      "cell_type": "markdown",
      "source": [
        "16.Write a code to create a set with the elements 'a', 'b', 'c' and print it.\n",
        "\n"
      ],
      "metadata": {
        "id": "9cPP9gQ62d31"
      }
    },
    {
      "cell_type": "code",
      "source": [
        "s={'a','b','c'}\n",
        "print(s)"
      ],
      "metadata": {
        "colab": {
          "base_uri": "https://localhost:8080/"
        },
        "id": "1EU2_HvU2kVj",
        "outputId": "d0c32d8c-427b-4b07-93c2-5acaa0fe57e4"
      },
      "execution_count": 23,
      "outputs": [
        {
          "output_type": "stream",
          "name": "stdout",
          "text": [
            "{'b', 'a', 'c'}\n"
          ]
        }
      ]
    },
    {
      "cell_type": "markdown",
      "source": [
        "17.Write a code to clear all elements from the set {1, 2, 3, 4, 5}."
      ],
      "metadata": {
        "id": "n7KEF92G29SF"
      }
    },
    {
      "cell_type": "code",
      "source": [
        "s={1,2,3,4,5}\n",
        "s.clear()\n"
      ],
      "metadata": {
        "id": "okRTJNDW3DFb"
      },
      "execution_count": 27,
      "outputs": []
    },
    {
      "cell_type": "markdown",
      "source": [
        "18.Write a code to remove the element 4 from the set {1, 2, 3, 4}."
      ],
      "metadata": {
        "id": "u-6LH9iw3Uwx"
      }
    },
    {
      "cell_type": "code",
      "source": [
        "s={1,2,3,4}\n",
        "s.remove(4)\n",
        "print(s)"
      ],
      "metadata": {
        "colab": {
          "base_uri": "https://localhost:8080/"
        },
        "id": "3jkFHivR3ax8",
        "outputId": "761a6f32-fff5-4d62-ee58-72ee9f6a048f"
      },
      "execution_count": 29,
      "outputs": [
        {
          "output_type": "stream",
          "name": "stdout",
          "text": [
            "{1, 2, 3}\n"
          ]
        }
      ]
    },
    {
      "cell_type": "markdown",
      "source": [
        "19.Write a code to find the union of two sets {1, 2, 3} and {3, 4, 5}."
      ],
      "metadata": {
        "id": "65pXx-Is3xNL"
      }
    },
    {
      "cell_type": "code",
      "source": [
        "s1={1,2,3}\n",
        "s2={3,4,5}\n",
        "s1|s2"
      ],
      "metadata": {
        "colab": {
          "base_uri": "https://localhost:8080/"
        },
        "id": "drXUi_df33O5",
        "outputId": "1046e261-e8cb-4398-e677-4bcd2afaae9e"
      },
      "execution_count": 30,
      "outputs": [
        {
          "output_type": "execute_result",
          "data": {
            "text/plain": [
              "{1, 2, 3, 4, 5}"
            ]
          },
          "metadata": {},
          "execution_count": 30
        }
      ]
    },
    {
      "cell_type": "markdown",
      "source": [
        "20.Write a code to find the intersection of two sets {1, 2, 3} and {2, 3, 4}."
      ],
      "metadata": {
        "id": "-xGsFuWS4qP-"
      }
    },
    {
      "cell_type": "code",
      "source": [
        "s1={1,2,3}\n",
        "s2={2,3,4}\n",
        "s1&s2"
      ],
      "metadata": {
        "colab": {
          "base_uri": "https://localhost:8080/"
        },
        "id": "JLqvBxMv4v9N",
        "outputId": "45a4cddc-c811-4cb1-dd15-5d5115d98b75"
      },
      "execution_count": 31,
      "outputs": [
        {
          "output_type": "execute_result",
          "data": {
            "text/plain": [
              "{2, 3}"
            ]
          },
          "metadata": {},
          "execution_count": 31
        }
      ]
    },
    {
      "cell_type": "markdown",
      "source": [
        "21.Write a code to create a dictionary with the keys \"name\", \"age\", and \"city\", and print it."
      ],
      "metadata": {
        "id": "TdewwM4A5xia"
      }
    },
    {
      "cell_type": "code",
      "source": [
        "person={\"name\":\"Soumyajit\",\"age\":24,\"city\":\"Kolkata\"}\n",
        "print(person)"
      ],
      "metadata": {
        "colab": {
          "base_uri": "https://localhost:8080/"
        },
        "id": "VuH4cgP851-f",
        "outputId": "f8be4a9f-6475-4069-ec31-7de630a908ae"
      },
      "execution_count": 33,
      "outputs": [
        {
          "output_type": "stream",
          "name": "stdout",
          "text": [
            "{'name': 'Soumyajit', 'age': 24, 'city': 'Kolkata'}\n"
          ]
        }
      ]
    },
    {
      "cell_type": "markdown",
      "source": [
        "22.Write a code to add a new key-value pair \"country\": \"USA\" to the dictionary {'name': 'John', 'age': 25}."
      ],
      "metadata": {
        "id": "O3raqLSr6lz0"
      }
    },
    {
      "cell_type": "code",
      "source": [
        "d={'name':'John','age':25}\n",
        "d1={\"country\":\"USA\"}\n",
        "d.update(d1)\n",
        "print(d)"
      ],
      "metadata": {
        "colab": {
          "base_uri": "https://localhost:8080/"
        },
        "id": "9RTJp2Ax6q9W",
        "outputId": "9d046e3d-a1e5-46a2-fed2-2160a9dd9bf7"
      },
      "execution_count": 38,
      "outputs": [
        {
          "output_type": "stream",
          "name": "stdout",
          "text": [
            "{'name': 'John', 'age': 25, 'country': 'USA'}\n"
          ]
        }
      ]
    },
    {
      "cell_type": "markdown",
      "source": [
        "23.Write a code to access the value associated with the key \"name\" in the dictionary {'name': 'Alice', 'age': 30}."
      ],
      "metadata": {
        "id": "1ex496Ft7gQm"
      }
    },
    {
      "cell_type": "code",
      "source": [
        "d={'name':'Alice','age':30}\n",
        "d.get('name')"
      ],
      "metadata": {
        "colab": {
          "base_uri": "https://localhost:8080/",
          "height": 35
        },
        "id": "SzQvBIPX7k9q",
        "outputId": "eff82f2f-5c3c-4cc0-e729-ca67c4719667"
      },
      "execution_count": 41,
      "outputs": [
        {
          "output_type": "execute_result",
          "data": {
            "text/plain": [
              "'Alice'"
            ],
            "application/vnd.google.colaboratory.intrinsic+json": {
              "type": "string"
            }
          },
          "metadata": {},
          "execution_count": 41
        }
      ]
    },
    {
      "cell_type": "markdown",
      "source": [
        "24.Write a code to remove the key \"age\" from the dictionary {'name': 'Bob', 'age': 22, 'city': 'New York'}."
      ],
      "metadata": {
        "id": "Me7lJHFH8OIX"
      }
    },
    {
      "cell_type": "code",
      "source": [
        "d={'name':'Bob','age':22,'city':'New York'}\n",
        "d.pop(\"age\")\n",
        "print(d)"
      ],
      "metadata": {
        "colab": {
          "base_uri": "https://localhost:8080/"
        },
        "id": "29J6K8hi8WZA",
        "outputId": "d33eb008-cf40-4a64-c2ff-aca54f6bb9f0"
      },
      "execution_count": 43,
      "outputs": [
        {
          "output_type": "stream",
          "name": "stdout",
          "text": [
            "{'name': 'Bob', 'city': 'New York'}\n"
          ]
        }
      ]
    },
    {
      "cell_type": "markdown",
      "source": [
        "25.Write a code to check if the key \"city\" exists in the dictionary {'name': 'Alice', 'city': 'Paris'}."
      ],
      "metadata": {
        "id": "zb8J6YE988lO"
      }
    },
    {
      "cell_type": "code",
      "source": [
        "d={'name': 'Alice', 'city': 'Paris'}\n",
        "if 'city' in d:\n",
        "  print(\"key 'city' exists in d \")\n",
        "else:\n",
        "    print(\"key'city' doesnot exist in d\")"
      ],
      "metadata": {
        "colab": {
          "base_uri": "https://localhost:8080/"
        },
        "id": "t35amras9BlW",
        "outputId": "df65f987-dac6-46e0-d0cf-818a9ad2497e"
      },
      "execution_count": 45,
      "outputs": [
        {
          "output_type": "stream",
          "name": "stdout",
          "text": [
            "key 'city' exists in d \n"
          ]
        }
      ]
    },
    {
      "cell_type": "markdown",
      "source": [
        "26.Write a code to create a list, a tuple, and a dictionary, and print them all."
      ],
      "metadata": {
        "id": "DgFvJ0dZ928C"
      }
    },
    {
      "cell_type": "code",
      "source": [
        "my_list = [1, 2, 3, 4, 5]\n",
        "my_tuple = (10, 20, 30)\n",
        "my_dict = {\"name\": \"Alice\", \"age\": 30, \"city\": \"Paris\"}\n",
        "print(\"List:\", my_list)\n",
        "print(\"Tuple:\", my_tuple)\n",
        "print(\"Dictionary:\", my_dict)"
      ],
      "metadata": {
        "colab": {
          "base_uri": "https://localhost:8080/"
        },
        "id": "EnVWnsR_98KG",
        "outputId": "6cddaacd-f18c-4c61-f06c-e8c5c175f0fc"
      },
      "execution_count": 46,
      "outputs": [
        {
          "output_type": "stream",
          "name": "stdout",
          "text": [
            "List: [1, 2, 3, 4, 5]\n",
            "Tuple: (10, 20, 30)\n",
            "Dictionary: {'name': 'Alice', 'age': 30, 'city': 'Paris'}\n"
          ]
        }
      ]
    },
    {
      "cell_type": "markdown",
      "source": [
        "27.Write a code to create a list of 5 random numbers between 1 and 100, sort it in ascending order, and print the\n",
        "result.(replaced)"
      ],
      "metadata": {
        "id": "Rh_K9fgG-ZU4"
      }
    },
    {
      "cell_type": "code",
      "source": [
        "import random\n",
        "random_numbers = [random.randint(1, 100) for _ in range(5)]\n",
        "random_numbers.sort()\n",
        "print(\"Sorted Random Numbers:\", random_numbers)\n"
      ],
      "metadata": {
        "colab": {
          "base_uri": "https://localhost:8080/"
        },
        "id": "Ffl-nah7-egm",
        "outputId": "05f9f00b-5f9d-4380-ef3c-dfd678e28f5a"
      },
      "execution_count": 51,
      "outputs": [
        {
          "output_type": "stream",
          "name": "stdout",
          "text": [
            "Sorted Random Numbers: [27, 40, 49, 53, 93]\n"
          ]
        }
      ]
    },
    {
      "cell_type": "markdown",
      "source": [
        "28.Write a code to create a list with strings and print the element at the third index.\n",
        "\n"
      ],
      "metadata": {
        "id": "pd-sbrVUA-1B"
      }
    },
    {
      "cell_type": "code",
      "source": [
        "fruits=[\"mango\",\"orange\",\"apple\",\"banana\",\"grapes\"]\n",
        "fruits[3]"
      ],
      "metadata": {
        "colab": {
          "base_uri": "https://localhost:8080/",
          "height": 35
        },
        "id": "hQmQeZxIBEoU",
        "outputId": "1d00e68b-6072-4007-cf1e-0d04107d3dea"
      },
      "execution_count": 54,
      "outputs": [
        {
          "output_type": "execute_result",
          "data": {
            "text/plain": [
              "'banana'"
            ],
            "application/vnd.google.colaboratory.intrinsic+json": {
              "type": "string"
            }
          },
          "metadata": {},
          "execution_count": 54
        }
      ]
    },
    {
      "cell_type": "markdown",
      "source": [
        "29.Write a code to combine two dictionaries into one and print the result.\n",
        "\n"
      ],
      "metadata": {
        "id": "twZ79t_ICIjC"
      }
    },
    {
      "cell_type": "code",
      "source": [
        "students=[\"Arun\",\"Ram\",\"Sita\"]\n",
        "marks=[60,80,100]\n",
        "{student:mark for student,mark in zip(students,marks)}"
      ],
      "metadata": {
        "colab": {
          "base_uri": "https://localhost:8080/"
        },
        "id": "a39yl8GbCOqu",
        "outputId": "481d6c5a-43fd-4a9d-98a5-39300287675d"
      },
      "execution_count": 60,
      "outputs": [
        {
          "output_type": "execute_result",
          "data": {
            "text/plain": [
              "{'Arun': 60, 'Ram': 80, 'Sita': 100}"
            ]
          },
          "metadata": {},
          "execution_count": 60
        }
      ]
    },
    {
      "cell_type": "markdown",
      "source": [
        "30. Write a code to convert a list of strings into a set."
      ],
      "metadata": {
        "id": "8NpSpOP4DaIU"
      }
    },
    {
      "cell_type": "code",
      "source": [
        "list=[\"Brinjal\",\"Apple\",\"Orange\",\"Apple\"]\n",
        "s=set(list)\n",
        "print(s)"
      ],
      "metadata": {
        "colab": {
          "base_uri": "https://localhost:8080/"
        },
        "id": "PZeRRBKdDpQJ",
        "outputId": "66ea0ee1-e671-4113-cc7d-cea085e1b3b8"
      },
      "execution_count": 61,
      "outputs": [
        {
          "output_type": "stream",
          "name": "stdout",
          "text": [
            "{'Brinjal', 'Apple', 'Orange'}\n"
          ]
        }
      ]
    }
  ]
}